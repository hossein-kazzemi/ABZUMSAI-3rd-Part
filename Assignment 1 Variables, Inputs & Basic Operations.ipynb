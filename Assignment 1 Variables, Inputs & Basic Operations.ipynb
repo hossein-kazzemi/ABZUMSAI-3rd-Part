{
 "cells": [
  {
   "cell_type": "markdown",
   "id": "d9bcc2b8",
   "metadata": {},
   "source": [
    "# Assignment 1: Variables, Inputs & Basic Operations\n",
    "\n",
    "**Course:** AbzumsAI Programming 1404\n",
    "\n",
    "**Instructor:** Mr. Ali Mohammadzadeh Shabestari\n",
    "\n",
    "**Date Assigned:** June 12, 2025\n",
    "\n",
    "**Deadline:** June 15, 2025"
   ]
  },
  {
   "cell_type": "markdown",
   "id": "6e9a9d57",
   "metadata": {},
   "source": [
    "## Learning Objectives\n",
    "\n",
    "By the end of this notebook, you will:\n",
    "\n",
    "- Understand Python data types: strings, integers, floats, booleans\n",
    "\n",
    "- Practice variable declaration and naming conventions\n",
    "\n",
    "- Use input/output functions to interact with the user\n",
    "\n",
    "- Perform arithmetic and logical operations\n",
    "\n",
    "- Manipulate strings with slicing, concatenation, and formatting\n",
    "\n",
    "---"
   ]
  },
  {
   "cell_type": "markdown",
   "id": "bc082db1",
   "metadata": {},
   "source": [
    "# Cell 0: Student Information\n",
    "\n",
    "### Please enter your details for grading purposes:\n",
    "\n",
    "Your Name: Mohammad Hossein Kazemim\n",
    "\n",
    "Your Email: kazzemihossein@gmail.com\n",
    "\n",
    "Your Gthub Link:"
   ]
  },
  {
   "cell_type": "markdown",
   "id": "b60f1c78",
   "metadata": {},
   "source": [
    "## Cell 1: Declare Variables"
   ]
  },
  {
   "cell_type": "markdown",
   "id": "09b5c94a",
   "metadata": {},
   "source": [
    "Define variables to represent patient information:\n",
    "\n",
    "- Full name (string)\n",
    "\n",
    "- Age in years (integer)\n",
    "\n",
    "- Weight in kilograms (float)\n",
    "\n",
    "- Height in meters (float)\n",
    "\n",
    "- Diabetic status (boolean: True or False)"
   ]
  },
  {
   "cell_type": "code",
   "execution_count": 4,
   "id": "23744f8c",
   "metadata": {},
   "outputs": [],
   "source": [
    "# write your code here\n",
    "\n",
    "FullName = \"Mohammad Hossein Kazemi\"\n",
    "Age = 21\n",
    "Weight = 88\n",
    "Height = 1.85\n",
    "DiabeticStatus = False"
   ]
  },
  {
   "cell_type": "markdown",
   "id": "60e5a456",
   "metadata": {},
   "source": [
    "## Cell 2: Print Variables"
   ]
  },
  {
   "cell_type": "markdown",
   "id": "86b9f19e",
   "metadata": {},
   "source": [
    "Now, print all of them in the following format:\n",
    "\n",
    "`Your {variable} is {value}`\n",
    "\n",
    "Replace `{variable}` and `{value}` with name of variable, and its value."
   ]
  },
  {
   "cell_type": "code",
   "execution_count": 5,
   "id": "34be97ed",
   "metadata": {},
   "outputs": [
    {
     "name": "stdout",
     "output_type": "stream",
     "text": [
      "My fullName is Mohammad Hossein Kazemi\n",
      "My age is 21\n",
      "My weight is 88\n",
      "My height is 1.85\n",
      "My diabet status is False\n"
     ]
    }
   ],
   "source": [
    "# write your code here\n",
    "\n",
    "print (f\"My fullName is {FullName}\")\n",
    "print (f\"My age is {Age}\")\n",
    "print (f\"My weight is {Weight}\")\n",
    "print (f\"My height is {Height}\")\n",
    "print (f\"My diabet status is {DiabeticStatus}\")"
   ]
  },
  {
   "cell_type": "markdown",
   "id": "2df49f77",
   "metadata": {},
   "source": [
    "## Cell 3: Assignment in Expression"
   ]
  },
  {
   "cell_type": "markdown",
   "id": "fe3ac152",
   "metadata": {},
   "source": [
    "Store your own height and weight in variables. (Both Integer)\n",
    "\n",
    "Then, calculate the Body Mass Index (BMI) using the formula:\n",
    "\n",
    "\n",
    "$$\n",
    "BMI = \\frac{\\text{weight (kg)}}{\\text{height (m)}^2}\n",
    "$$\n",
    " \n",
    "Print the calculated BMI and its datatype."
   ]
  },
  {
   "cell_type": "code",
   "execution_count": 2,
   "id": "d3c5e8bb",
   "metadata": {},
   "outputs": [
    {
     "name": "stdout",
     "output_type": "stream",
     "text": [
      "25.712198685171657\n"
     ]
    }
   ],
   "source": [
    "# write your code here\n",
    "\n",
    "MyWeight = 88 #kg\n",
    "MyHeight = 185 #cm\n",
    "\n",
    "Bmi = MyWeight / (MyHeight/100) ** 2\n",
    "print (Bmi)"
   ]
  },
  {
   "cell_type": "markdown",
   "id": "7a9ee851",
   "metadata": {},
   "source": [
    "## Cell 4: Input"
   ]
  },
  {
   "cell_type": "markdown",
   "id": "bf0220d9",
   "metadata": {},
   "source": [
    "Repeat the same process, but this time take height and weight from user input."
   ]
  },
  {
   "cell_type": "code",
   "execution_count": null,
   "id": "f4255b85",
   "metadata": {},
   "outputs": [],
   "source": [
    "# write your code here\n",
    "\n",
    "UserWeight = int(input(\"What is your weight?(kg) : \"))\n",
    "UserHeight = int(input(\"What is your height?(cm) : \"))\n",
    "\n",
    "UserBmi = MyWeight / (MyHeight/100) ** 2\n",
    "print(f\"Your Bmi is {UserBmi}.\")"
   ]
  },
  {
   "cell_type": "markdown",
   "id": "fe210e58",
   "metadata": {},
   "source": [
    "## Cell 5: Strings"
   ]
  },
  {
   "cell_type": "markdown",
   "id": "e2ff6b31",
   "metadata": {},
   "source": [
    "Fill the blanks with proper code."
   ]
  },
  {
   "cell_type": "code",
   "execution_count": 1,
   "id": "6d784b0d",
   "metadata": {},
   "outputs": [
    {
     "name": "stdout",
     "output_type": "stream",
     "text": [
      "First Name: Jane\n",
      "Last Name: Doe\n",
      "Unique Identifier: DoeID202305\n",
      "Uppercase: JANE DOE\n",
      "Lowercase: jane doe\n",
      "Does the report mention 'COVID-19'? True\n",
      "Patient Jane Doe (DoeID202305) tested True for COVID-19.\n",
      "Updated Report: The patient tested positive for influenza and negative for diabetes.\n"
     ]
    }
   ],
   "source": [
    "# Patient's information and report\n",
    "patient_full_name = \"Jane Doe\"\n",
    "patient_id = \"ID202305\"\n",
    "medical_report = \"The patient tested positive for COVID-19 and negative for diabetes.\"\n",
    "\n",
    "# 1. Extract and print the patient's first and last name separately.\n",
    "#    Use slicing or the split() method.\n",
    "first_name = patient_full_name.split()[0]\n",
    "last_name = patient_full_name.split()[1]\n",
    "print(f\"First Name: {first_name}\")\n",
    "print(f\"Last Name: {last_name}\")\n",
    "\n",
    "# 2. Create and print a unique identifier by combining the patient's last name and ID.\n",
    "#    Use string concatenation or f-strings.\n",
    "unique_identifier = f\"{last_name}{patient_id}\"\n",
    "print(f\"Unique Identifier: {unique_identifier}\")\n",
    "\n",
    "# 3. Convert the patient's full name to uppercase and lowercase. Print the results.\n",
    "name_upper = patient_full_name.upper() \n",
    "name_lower = patient_full_name.lower() \n",
    "print(f\"Uppercase: {name_upper}\")\n",
    "print(f\"Lowercase: {name_lower}\")\n",
    "\n",
    "# 4. Check if the string \"COVID-19\" exists in the medical report. Print the result as a boolean.\n",
    "contains_covid =  medical_report.__contains__('COVID-19')\n",
    "print(f\"Does the report mention 'COVID-19'? {contains_covid}\")\n",
    "\n",
    "# 5. Format and print a sentence summarizing the patient's information:\n",
    "#    Example: \"Patient Jane Doe (ID: ID202305) tested positive for COVID-19.\"\n",
    "summary = f\"Patient {patient_full_name} ({unique_identifier}) tested {contains_covid} for COVID-19.\"\n",
    "print(summary)\n",
    "\n",
    "# 6. Replace \"COVID-19\" in the report with \"influenza\" and print the updated report.\n",
    "updated_report = medical_report.replace(\"COVID-19\",\"influenza\")\n",
    "print(f\"Updated Report: {updated_report}\")"
   ]
  },
  {
   "cell_type": "markdown",
   "id": "46db3e00",
   "metadata": {},
   "source": [
    "## Cell 6: Operators"
   ]
  },
  {
   "cell_type": "markdown",
   "id": "c418f6fb",
   "metadata": {},
   "source": [
    "Fill the blanks with proper code."
   ]
  },
  {
   "cell_type": "code",
   "execution_count": null,
   "id": "4b0c343f",
   "metadata": {},
   "outputs": [
    {
     "name": "stdout",
     "output_type": "stream",
     "text": [
      "Is the patient an adult? True\n",
      "Is the BMI in the normal range? False\n",
      "Is the patient hypertensive? False\n",
      "Is the patient an adult and diabetic? True\n",
      "Is the patient non-hypertensive with a normal BMI? False\n",
      "Does the patient have diabetes or hypertension? True\n",
      "Is the patient's age between 30 and 50? True\n",
      "Is the systolic blood pressure divisible by 5? True\n"
     ]
    }
   ],
   "source": [
    "# Patient data\n",
    "patient_age = 45\n",
    "patient_weight = 70.5  # kg\n",
    "patient_height = 1.65  # meters\n",
    "systolic_bp = 135  # mmHg\n",
    "diastolic_bp = 85  # mmHg\n",
    "has_diabetes = True\n",
    "\n",
    "# 1. Check if the patient is an adult (age >= 18). Print the result.\n",
    "is_adult = patient_age >= 18 # Replace with a comparison\n",
    "print(f\"Is the patient an adult? {is_adult}\")\n",
    "\n",
    "# 2. Check if the patient's BMI is in the normal range (18.5 <= BMI < 25).\n",
    "#    Calculate BMI first, then check the condition.\n",
    "bmi = patient_weight / (patient_height ** 2)\n",
    "is_bmi_normal = bmi >= 18.5 and bmi < 25  # Replace with a logical condition\n",
    "print(f\"Is the BMI in the normal range? {is_bmi_normal}\")\n",
    "\n",
    "# 3. Check if the patient is hypertensive based on blood pressure.\n",
    "#    Hypertension: systolic BP >= 140 or diastolic BP >= 90.\n",
    "is_hypertensive = systolic_bp >=140 or diastolic_bp >=90 # Replace with a logical condition\n",
    "print(f\"Is the patient hypertensive? {is_hypertensive}\")\n",
    "\n",
    "# 4. Check if the patient is an adult **and** has diabetes.\n",
    "adult_and_diabetic = is_adult and has_diabetes  # Replace with a logical condition\n",
    "print(f\"Is the patient an adult and diabetic? {adult_and_diabetic}\")\n",
    "\n",
    "# 5. Check if the patient is not hypertensive and BMI is normal.\n",
    "healthy_condition = not is_hypertensive and is_bmi_normal  # Replace with a logical condition\n",
    "print(f\"Is the patient non-hypertensive with a normal BMI? {healthy_condition}\")\n",
    "\n",
    "# 6. Check if the patient has **either** diabetes or hypertension (or both).\n",
    "diabetes_or_hypertension = has_diabetes or is_hypertensive # Replace with a logical condition\n",
    "print(f\"Does the patient have diabetes or hypertension? {diabetes_or_hypertension}\")\n",
    "\n",
    "# 7. Verify if the patient's age is within the range of 30 to 50 (inclusive).\n",
    "age_in_range = patient_age >= 30 and patient_age <= 50 # Replace with a logical condition\n",
    "print(f\"Is the patient's age between 30 and 50? {age_in_range}\")\n",
    "\n",
    "# 8. Check if the patient’s systolic BP is divisible by 5.\n",
    "bp_divisible_by_5 = (systolic_bp % 5) == 0 # Replace with a condition using modulus operator\n",
    "print(f\"Is the systolic blood pressure divisible by 5? {bp_divisible_by_5}\")"
   ]
  }
 ],
 "metadata": {
  "kernelspec": {
   "display_name": "Python 3",
   "language": "python",
   "name": "python3"
  },
  "language_info": {
   "codemirror_mode": {
    "name": "ipython",
    "version": 3
   },
   "file_extension": ".py",
   "mimetype": "text/x-python",
   "name": "python",
   "nbconvert_exporter": "python",
   "pygments_lexer": "ipython3",
   "version": "3.13.3"
  }
 },
 "nbformat": 4,
 "nbformat_minor": 5
}
